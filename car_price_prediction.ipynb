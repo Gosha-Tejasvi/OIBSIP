{
 "cells": [
  {
   "cell_type": "markdown",
   "id": "5b56aeb0",
   "metadata": {},
   "source": [
    "# CAR PRICE PREDICTION WITH MACHINE LEARNING"
   ]
  },
  {
   "cell_type": "markdown",
   "id": "d76ff56f",
   "metadata": {},
   "source": [
    "The price of a car depends on a lot of factors like the goodwill of the brand of the car,\n",
    "features of the car, horsepower and the mileage it gives and many more. \n",
    "Car price prediction is one of the major research areas in machine learning."
   ]
  },
  {
   "cell_type": "markdown",
   "id": "bf9e07c4",
   "metadata": {},
   "source": [
    "Author: Tejasvi"
   ]
  },
  {
   "cell_type": "markdown",
   "id": "131be297",
   "metadata": {},
   "source": [
    "# PREDICTING PRICE OF PRE-OWNED CARS "
   ]
  },
  {
   "cell_type": "code",
   "execution_count": 1,
   "id": "c1af6556",
   "metadata": {},
   "outputs": [],
   "source": [
    "import pandas as pd\n",
    "import numpy as np\n",
    "import seaborn as sns"
   ]
  },
  {
   "cell_type": "markdown",
   "id": "d850e23f",
   "metadata": {},
   "source": [
    "# Setting dimensions for plot "
   ]
  },
  {
   "cell_type": "code",
   "execution_count": 4,
   "id": "79a6df6e",
   "metadata": {},
   "outputs": [],
   "source": [
    "sns.set(rc={'figure.figsize':(11.7,8.27)})"
   ]
  },
  {
   "cell_type": "markdown",
   "id": "1d5227ad",
   "metadata": {},
   "source": [
    "# Reading CSV file"
   ]
  },
  {
   "cell_type": "code",
   "execution_count": 8,
   "id": "ddfec2b5",
   "metadata": {},
   "outputs": [],
   "source": [
    "path=('C:\\\\Users\\\\water place pharmacy\\\\Desktop\\\\oasis\\\\')"
   ]
  },
  {
   "cell_type": "code",
   "execution_count": 9,
   "id": "0384f7f4",
   "metadata": {},
   "outputs": [],
   "source": [
    "cars_data=pd.read_csv(path+\"CarPrice.csv\")"
   ]
  },
  {
   "cell_type": "markdown",
   "id": "036be0cc",
   "metadata": {},
   "source": [
    "# Creating copy"
   ]
  },
  {
   "cell_type": "code",
   "execution_count": 10,
   "id": "ffb88b54",
   "metadata": {},
   "outputs": [],
   "source": [
    "cars=cars_data.copy()"
   ]
  },
  {
   "cell_type": "markdown",
   "id": "3102e8ed",
   "metadata": {},
   "source": [
    "# Structure of the dataset"
   ]
  },
  {
   "cell_type": "code",
   "execution_count": 11,
   "id": "b5bd337f",
   "metadata": {
    "scrolled": true
   },
   "outputs": [
    {
     "name": "stdout",
     "output_type": "stream",
     "text": [
      "<class 'pandas.core.frame.DataFrame'>\n",
      "RangeIndex: 205 entries, 0 to 204\n",
      "Data columns (total 26 columns):\n",
      " #   Column            Non-Null Count  Dtype  \n",
      "---  ------            --------------  -----  \n",
      " 0   car_ID            205 non-null    int64  \n",
      " 1   symboling         205 non-null    int64  \n",
      " 2   CarName           205 non-null    object \n",
      " 3   fueltype          205 non-null    object \n",
      " 4   aspiration        205 non-null    object \n",
      " 5   doornumber        205 non-null    object \n",
      " 6   carbody           205 non-null    object \n",
      " 7   drivewheel        205 non-null    object \n",
      " 8   enginelocation    205 non-null    object \n",
      " 9   wheelbase         205 non-null    float64\n",
      " 10  carlength         205 non-null    float64\n",
      " 11  carwidth          205 non-null    float64\n",
      " 12  carheight         205 non-null    float64\n",
      " 13  curbweight        205 non-null    int64  \n",
      " 14  enginetype        205 non-null    object \n",
      " 15  cylindernumber    205 non-null    object \n",
      " 16  enginesize        205 non-null    int64  \n",
      " 17  fuelsystem        205 non-null    object \n",
      " 18  boreratio         205 non-null    float64\n",
      " 19  stroke            205 non-null    float64\n",
      " 20  compressionratio  205 non-null    float64\n",
      " 21  horsepower        205 non-null    int64  \n",
      " 22  peakrpm           205 non-null    int64  \n",
      " 23  citympg           205 non-null    int64  \n",
      " 24  highwaympg        205 non-null    int64  \n",
      " 25  price             205 non-null    float64\n",
      "dtypes: float64(8), int64(8), object(10)\n",
      "memory usage: 41.8+ KB\n"
     ]
    }
   ],
   "source": [
    " cars.info()"
   ]
  },
  {
   "cell_type": "code",
   "execution_count": 22,
   "id": "939630a5",
   "metadata": {},
   "outputs": [
    {
     "data": {
      "text/html": [
       "<div>\n",
       "<style scoped>\n",
       "    .dataframe tbody tr th:only-of-type {\n",
       "        vertical-align: middle;\n",
       "    }\n",
       "\n",
       "    .dataframe tbody tr th {\n",
       "        vertical-align: top;\n",
       "    }\n",
       "\n",
       "    .dataframe thead th {\n",
       "        text-align: right;\n",
       "    }\n",
       "</style>\n",
       "<table border=\"1\" class=\"dataframe\">\n",
       "  <thead>\n",
       "    <tr style=\"text-align: right;\">\n",
       "      <th></th>\n",
       "      <th>car_ID</th>\n",
       "      <th>symboling</th>\n",
       "      <th>CarName</th>\n",
       "      <th>fueltype</th>\n",
       "      <th>aspiration</th>\n",
       "      <th>doornumber</th>\n",
       "      <th>carbody</th>\n",
       "      <th>drivewheel</th>\n",
       "      <th>enginelocation</th>\n",
       "      <th>wheelbase</th>\n",
       "      <th>carlength</th>\n",
       "      <th>carwidth</th>\n",
       "      <th>carheight</th>\n",
       "      <th>curbweight</th>\n",
       "      <th>enginetype</th>\n",
       "      <th>cylindernumber</th>\n",
       "      <th>enginesize</th>\n",
       "      <th>fuelsystem</th>\n",
       "      <th>boreratio</th>\n",
       "      <th>stroke</th>\n",
       "      <th>compressionratio</th>\n",
       "      <th>horsepower</th>\n",
       "      <th>peakrpm</th>\n",
       "      <th>citympg</th>\n",
       "      <th>highwaympg</th>\n",
       "      <th>price</th>\n",
       "    </tr>\n",
       "  </thead>\n",
       "  <tbody>\n",
       "    <tr>\n",
       "      <th>0</th>\n",
       "      <td>1</td>\n",
       "      <td>3</td>\n",
       "      <td>alfa-romero giulia</td>\n",
       "      <td>gas</td>\n",
       "      <td>std</td>\n",
       "      <td>two</td>\n",
       "      <td>convertible</td>\n",
       "      <td>rwd</td>\n",
       "      <td>front</td>\n",
       "      <td>88.600</td>\n",
       "      <td>168.800</td>\n",
       "      <td>64.100</td>\n",
       "      <td>48.800</td>\n",
       "      <td>2548</td>\n",
       "      <td>dohc</td>\n",
       "      <td>four</td>\n",
       "      <td>130</td>\n",
       "      <td>mpfi</td>\n",
       "      <td>3.470</td>\n",
       "      <td>2.680</td>\n",
       "      <td>9.000</td>\n",
       "      <td>111</td>\n",
       "      <td>5000</td>\n",
       "      <td>21</td>\n",
       "      <td>27</td>\n",
       "      <td>13495.000</td>\n",
       "    </tr>\n",
       "    <tr>\n",
       "      <th>1</th>\n",
       "      <td>2</td>\n",
       "      <td>3</td>\n",
       "      <td>alfa-romero stelvio</td>\n",
       "      <td>gas</td>\n",
       "      <td>std</td>\n",
       "      <td>two</td>\n",
       "      <td>convertible</td>\n",
       "      <td>rwd</td>\n",
       "      <td>front</td>\n",
       "      <td>88.600</td>\n",
       "      <td>168.800</td>\n",
       "      <td>64.100</td>\n",
       "      <td>48.800</td>\n",
       "      <td>2548</td>\n",
       "      <td>dohc</td>\n",
       "      <td>four</td>\n",
       "      <td>130</td>\n",
       "      <td>mpfi</td>\n",
       "      <td>3.470</td>\n",
       "      <td>2.680</td>\n",
       "      <td>9.000</td>\n",
       "      <td>111</td>\n",
       "      <td>5000</td>\n",
       "      <td>21</td>\n",
       "      <td>27</td>\n",
       "      <td>16500.000</td>\n",
       "    </tr>\n",
       "    <tr>\n",
       "      <th>2</th>\n",
       "      <td>3</td>\n",
       "      <td>1</td>\n",
       "      <td>alfa-romero Quadrifoglio</td>\n",
       "      <td>gas</td>\n",
       "      <td>std</td>\n",
       "      <td>two</td>\n",
       "      <td>hatchback</td>\n",
       "      <td>rwd</td>\n",
       "      <td>front</td>\n",
       "      <td>94.500</td>\n",
       "      <td>171.200</td>\n",
       "      <td>65.500</td>\n",
       "      <td>52.400</td>\n",
       "      <td>2823</td>\n",
       "      <td>ohcv</td>\n",
       "      <td>six</td>\n",
       "      <td>152</td>\n",
       "      <td>mpfi</td>\n",
       "      <td>2.680</td>\n",
       "      <td>3.470</td>\n",
       "      <td>9.000</td>\n",
       "      <td>154</td>\n",
       "      <td>5000</td>\n",
       "      <td>19</td>\n",
       "      <td>26</td>\n",
       "      <td>16500.000</td>\n",
       "    </tr>\n",
       "    <tr>\n",
       "      <th>3</th>\n",
       "      <td>4</td>\n",
       "      <td>2</td>\n",
       "      <td>audi 100 ls</td>\n",
       "      <td>gas</td>\n",
       "      <td>std</td>\n",
       "      <td>four</td>\n",
       "      <td>sedan</td>\n",
       "      <td>fwd</td>\n",
       "      <td>front</td>\n",
       "      <td>99.800</td>\n",
       "      <td>176.600</td>\n",
       "      <td>66.200</td>\n",
       "      <td>54.300</td>\n",
       "      <td>2337</td>\n",
       "      <td>ohc</td>\n",
       "      <td>four</td>\n",
       "      <td>109</td>\n",
       "      <td>mpfi</td>\n",
       "      <td>3.190</td>\n",
       "      <td>3.400</td>\n",
       "      <td>10.000</td>\n",
       "      <td>102</td>\n",
       "      <td>5500</td>\n",
       "      <td>24</td>\n",
       "      <td>30</td>\n",
       "      <td>13950.000</td>\n",
       "    </tr>\n",
       "    <tr>\n",
       "      <th>4</th>\n",
       "      <td>5</td>\n",
       "      <td>2</td>\n",
       "      <td>audi 100ls</td>\n",
       "      <td>gas</td>\n",
       "      <td>std</td>\n",
       "      <td>four</td>\n",
       "      <td>sedan</td>\n",
       "      <td>4wd</td>\n",
       "      <td>front</td>\n",
       "      <td>99.400</td>\n",
       "      <td>176.600</td>\n",
       "      <td>66.400</td>\n",
       "      <td>54.300</td>\n",
       "      <td>2824</td>\n",
       "      <td>ohc</td>\n",
       "      <td>five</td>\n",
       "      <td>136</td>\n",
       "      <td>mpfi</td>\n",
       "      <td>3.190</td>\n",
       "      <td>3.400</td>\n",
       "      <td>8.000</td>\n",
       "      <td>115</td>\n",
       "      <td>5500</td>\n",
       "      <td>18</td>\n",
       "      <td>22</td>\n",
       "      <td>17450.000</td>\n",
       "    </tr>\n",
       "  </tbody>\n",
       "</table>\n",
       "</div>"
      ],
      "text/plain": [
       "   car_ID  symboling                   CarName fueltype aspiration doornumber  \\\n",
       "0       1          3        alfa-romero giulia      gas        std        two   \n",
       "1       2          3       alfa-romero stelvio      gas        std        two   \n",
       "2       3          1  alfa-romero Quadrifoglio      gas        std        two   \n",
       "3       4          2               audi 100 ls      gas        std       four   \n",
       "4       5          2                audi 100ls      gas        std       four   \n",
       "\n",
       "       carbody drivewheel enginelocation  wheelbase  carlength  carwidth  \\\n",
       "0  convertible        rwd          front     88.600    168.800    64.100   \n",
       "1  convertible        rwd          front     88.600    168.800    64.100   \n",
       "2    hatchback        rwd          front     94.500    171.200    65.500   \n",
       "3        sedan        fwd          front     99.800    176.600    66.200   \n",
       "4        sedan        4wd          front     99.400    176.600    66.400   \n",
       "\n",
       "   carheight  curbweight enginetype cylindernumber  enginesize fuelsystem  \\\n",
       "0     48.800        2548       dohc           four         130       mpfi   \n",
       "1     48.800        2548       dohc           four         130       mpfi   \n",
       "2     52.400        2823       ohcv            six         152       mpfi   \n",
       "3     54.300        2337        ohc           four         109       mpfi   \n",
       "4     54.300        2824        ohc           five         136       mpfi   \n",
       "\n",
       "   boreratio  stroke  compressionratio  horsepower  peakrpm  citympg  \\\n",
       "0      3.470   2.680             9.000         111     5000       21   \n",
       "1      3.470   2.680             9.000         111     5000       21   \n",
       "2      2.680   3.470             9.000         154     5000       19   \n",
       "3      3.190   3.400            10.000         102     5500       24   \n",
       "4      3.190   3.400             8.000         115     5500       18   \n",
       "\n",
       "   highwaympg     price  \n",
       "0          27 13495.000  \n",
       "1          27 16500.000  \n",
       "2          26 16500.000  \n",
       "3          30 13950.000  \n",
       "4          22 17450.000  "
      ]
     },
     "execution_count": 22,
     "metadata": {},
     "output_type": "execute_result"
    }
   ],
   "source": [
    "cars.head()"
   ]
  },
  {
   "cell_type": "markdown",
   "id": "1b8ac1bc",
   "metadata": {},
   "source": [
    "# Summarizing data"
   ]
  },
  {
   "cell_type": "code",
   "execution_count": 12,
   "id": "36b7de39",
   "metadata": {},
   "outputs": [
    {
     "data": {
      "text/html": [
       "<div>\n",
       "<style scoped>\n",
       "    .dataframe tbody tr th:only-of-type {\n",
       "        vertical-align: middle;\n",
       "    }\n",
       "\n",
       "    .dataframe tbody tr th {\n",
       "        vertical-align: top;\n",
       "    }\n",
       "\n",
       "    .dataframe thead th {\n",
       "        text-align: right;\n",
       "    }\n",
       "</style>\n",
       "<table border=\"1\" class=\"dataframe\">\n",
       "  <thead>\n",
       "    <tr style=\"text-align: right;\">\n",
       "      <th></th>\n",
       "      <th>car_ID</th>\n",
       "      <th>symboling</th>\n",
       "      <th>wheelbase</th>\n",
       "      <th>carlength</th>\n",
       "      <th>carwidth</th>\n",
       "      <th>carheight</th>\n",
       "      <th>curbweight</th>\n",
       "      <th>enginesize</th>\n",
       "      <th>boreratio</th>\n",
       "      <th>stroke</th>\n",
       "      <th>compressionratio</th>\n",
       "      <th>horsepower</th>\n",
       "      <th>peakrpm</th>\n",
       "      <th>citympg</th>\n",
       "      <th>highwaympg</th>\n",
       "      <th>price</th>\n",
       "    </tr>\n",
       "  </thead>\n",
       "  <tbody>\n",
       "    <tr>\n",
       "      <th>count</th>\n",
       "      <td>205.000</td>\n",
       "      <td>205.000</td>\n",
       "      <td>205.000</td>\n",
       "      <td>205.000</td>\n",
       "      <td>205.000</td>\n",
       "      <td>205.000</td>\n",
       "      <td>205.000</td>\n",
       "      <td>205.000</td>\n",
       "      <td>205.000</td>\n",
       "      <td>205.000</td>\n",
       "      <td>205.000</td>\n",
       "      <td>205.000</td>\n",
       "      <td>205.000</td>\n",
       "      <td>205.000</td>\n",
       "      <td>205.000</td>\n",
       "      <td>205.000</td>\n",
       "    </tr>\n",
       "    <tr>\n",
       "      <th>mean</th>\n",
       "      <td>103.000</td>\n",
       "      <td>0.834</td>\n",
       "      <td>98.757</td>\n",
       "      <td>174.049</td>\n",
       "      <td>65.908</td>\n",
       "      <td>53.725</td>\n",
       "      <td>2555.566</td>\n",
       "      <td>126.907</td>\n",
       "      <td>3.330</td>\n",
       "      <td>3.255</td>\n",
       "      <td>10.143</td>\n",
       "      <td>104.117</td>\n",
       "      <td>5125.122</td>\n",
       "      <td>25.220</td>\n",
       "      <td>30.751</td>\n",
       "      <td>13276.711</td>\n",
       "    </tr>\n",
       "    <tr>\n",
       "      <th>std</th>\n",
       "      <td>59.323</td>\n",
       "      <td>1.245</td>\n",
       "      <td>6.022</td>\n",
       "      <td>12.337</td>\n",
       "      <td>2.145</td>\n",
       "      <td>2.444</td>\n",
       "      <td>520.680</td>\n",
       "      <td>41.643</td>\n",
       "      <td>0.271</td>\n",
       "      <td>0.314</td>\n",
       "      <td>3.972</td>\n",
       "      <td>39.544</td>\n",
       "      <td>476.986</td>\n",
       "      <td>6.542</td>\n",
       "      <td>6.886</td>\n",
       "      <td>7988.852</td>\n",
       "    </tr>\n",
       "    <tr>\n",
       "      <th>min</th>\n",
       "      <td>1.000</td>\n",
       "      <td>-2.000</td>\n",
       "      <td>86.600</td>\n",
       "      <td>141.100</td>\n",
       "      <td>60.300</td>\n",
       "      <td>47.800</td>\n",
       "      <td>1488.000</td>\n",
       "      <td>61.000</td>\n",
       "      <td>2.540</td>\n",
       "      <td>2.070</td>\n",
       "      <td>7.000</td>\n",
       "      <td>48.000</td>\n",
       "      <td>4150.000</td>\n",
       "      <td>13.000</td>\n",
       "      <td>16.000</td>\n",
       "      <td>5118.000</td>\n",
       "    </tr>\n",
       "    <tr>\n",
       "      <th>25%</th>\n",
       "      <td>52.000</td>\n",
       "      <td>0.000</td>\n",
       "      <td>94.500</td>\n",
       "      <td>166.300</td>\n",
       "      <td>64.100</td>\n",
       "      <td>52.000</td>\n",
       "      <td>2145.000</td>\n",
       "      <td>97.000</td>\n",
       "      <td>3.150</td>\n",
       "      <td>3.110</td>\n",
       "      <td>8.600</td>\n",
       "      <td>70.000</td>\n",
       "      <td>4800.000</td>\n",
       "      <td>19.000</td>\n",
       "      <td>25.000</td>\n",
       "      <td>7788.000</td>\n",
       "    </tr>\n",
       "    <tr>\n",
       "      <th>50%</th>\n",
       "      <td>103.000</td>\n",
       "      <td>1.000</td>\n",
       "      <td>97.000</td>\n",
       "      <td>173.200</td>\n",
       "      <td>65.500</td>\n",
       "      <td>54.100</td>\n",
       "      <td>2414.000</td>\n",
       "      <td>120.000</td>\n",
       "      <td>3.310</td>\n",
       "      <td>3.290</td>\n",
       "      <td>9.000</td>\n",
       "      <td>95.000</td>\n",
       "      <td>5200.000</td>\n",
       "      <td>24.000</td>\n",
       "      <td>30.000</td>\n",
       "      <td>10295.000</td>\n",
       "    </tr>\n",
       "    <tr>\n",
       "      <th>75%</th>\n",
       "      <td>154.000</td>\n",
       "      <td>2.000</td>\n",
       "      <td>102.400</td>\n",
       "      <td>183.100</td>\n",
       "      <td>66.900</td>\n",
       "      <td>55.500</td>\n",
       "      <td>2935.000</td>\n",
       "      <td>141.000</td>\n",
       "      <td>3.580</td>\n",
       "      <td>3.410</td>\n",
       "      <td>9.400</td>\n",
       "      <td>116.000</td>\n",
       "      <td>5500.000</td>\n",
       "      <td>30.000</td>\n",
       "      <td>34.000</td>\n",
       "      <td>16503.000</td>\n",
       "    </tr>\n",
       "    <tr>\n",
       "      <th>max</th>\n",
       "      <td>205.000</td>\n",
       "      <td>3.000</td>\n",
       "      <td>120.900</td>\n",
       "      <td>208.100</td>\n",
       "      <td>72.300</td>\n",
       "      <td>59.800</td>\n",
       "      <td>4066.000</td>\n",
       "      <td>326.000</td>\n",
       "      <td>3.940</td>\n",
       "      <td>4.170</td>\n",
       "      <td>23.000</td>\n",
       "      <td>288.000</td>\n",
       "      <td>6600.000</td>\n",
       "      <td>49.000</td>\n",
       "      <td>54.000</td>\n",
       "      <td>45400.000</td>\n",
       "    </tr>\n",
       "  </tbody>\n",
       "</table>\n",
       "</div>"
      ],
      "text/plain": [
       "       car_ID  symboling  wheelbase  carlength  carwidth  carheight  \\\n",
       "count 205.000    205.000    205.000    205.000   205.000    205.000   \n",
       "mean  103.000      0.834     98.757    174.049    65.908     53.725   \n",
       "std    59.323      1.245      6.022     12.337     2.145      2.444   \n",
       "min     1.000     -2.000     86.600    141.100    60.300     47.800   \n",
       "25%    52.000      0.000     94.500    166.300    64.100     52.000   \n",
       "50%   103.000      1.000     97.000    173.200    65.500     54.100   \n",
       "75%   154.000      2.000    102.400    183.100    66.900     55.500   \n",
       "max   205.000      3.000    120.900    208.100    72.300     59.800   \n",
       "\n",
       "       curbweight  enginesize  boreratio  stroke  compressionratio  \\\n",
       "count     205.000     205.000    205.000 205.000           205.000   \n",
       "mean     2555.566     126.907      3.330   3.255            10.143   \n",
       "std       520.680      41.643      0.271   0.314             3.972   \n",
       "min      1488.000      61.000      2.540   2.070             7.000   \n",
       "25%      2145.000      97.000      3.150   3.110             8.600   \n",
       "50%      2414.000     120.000      3.310   3.290             9.000   \n",
       "75%      2935.000     141.000      3.580   3.410             9.400   \n",
       "max      4066.000     326.000      3.940   4.170            23.000   \n",
       "\n",
       "       horsepower  peakrpm  citympg  highwaympg     price  \n",
       "count     205.000  205.000  205.000     205.000   205.000  \n",
       "mean      104.117 5125.122   25.220      30.751 13276.711  \n",
       "std        39.544  476.986    6.542       6.886  7988.852  \n",
       "min        48.000 4150.000   13.000      16.000  5118.000  \n",
       "25%        70.000 4800.000   19.000      25.000  7788.000  \n",
       "50%        95.000 5200.000   24.000      30.000 10295.000  \n",
       "75%       116.000 5500.000   30.000      34.000 16503.000  \n",
       "max       288.000 6600.000   49.000      54.000 45400.000  "
      ]
     },
     "execution_count": 12,
     "metadata": {},
     "output_type": "execute_result"
    }
   ],
   "source": [
    "\n",
    "cars.describe()\n",
    "pd.set_option('display.float_format', lambda x: '%.3f' % x)\n",
    "cars.describe()\n"
   ]
  },
  {
   "cell_type": "code",
   "execution_count": 13,
   "id": "7c7922ff",
   "metadata": {},
   "outputs": [
    {
     "data": {
      "text/html": [
       "<div>\n",
       "<style scoped>\n",
       "    .dataframe tbody tr th:only-of-type {\n",
       "        vertical-align: middle;\n",
       "    }\n",
       "\n",
       "    .dataframe tbody tr th {\n",
       "        vertical-align: top;\n",
       "    }\n",
       "\n",
       "    .dataframe thead th {\n",
       "        text-align: right;\n",
       "    }\n",
       "</style>\n",
       "<table border=\"1\" class=\"dataframe\">\n",
       "  <thead>\n",
       "    <tr style=\"text-align: right;\">\n",
       "      <th></th>\n",
       "      <th>car_ID</th>\n",
       "      <th>symboling</th>\n",
       "      <th>wheelbase</th>\n",
       "      <th>carlength</th>\n",
       "      <th>carwidth</th>\n",
       "      <th>carheight</th>\n",
       "      <th>curbweight</th>\n",
       "      <th>enginesize</th>\n",
       "      <th>boreratio</th>\n",
       "      <th>stroke</th>\n",
       "      <th>compressionratio</th>\n",
       "      <th>horsepower</th>\n",
       "      <th>peakrpm</th>\n",
       "      <th>citympg</th>\n",
       "      <th>highwaympg</th>\n",
       "      <th>price</th>\n",
       "    </tr>\n",
       "  </thead>\n",
       "  <tbody>\n",
       "    <tr>\n",
       "      <th>count</th>\n",
       "      <td>205.000</td>\n",
       "      <td>205.000</td>\n",
       "      <td>205.000</td>\n",
       "      <td>205.000</td>\n",
       "      <td>205.000</td>\n",
       "      <td>205.000</td>\n",
       "      <td>205.000</td>\n",
       "      <td>205.000</td>\n",
       "      <td>205.000</td>\n",
       "      <td>205.000</td>\n",
       "      <td>205.000</td>\n",
       "      <td>205.000</td>\n",
       "      <td>205.000</td>\n",
       "      <td>205.000</td>\n",
       "      <td>205.000</td>\n",
       "      <td>205.000</td>\n",
       "    </tr>\n",
       "    <tr>\n",
       "      <th>mean</th>\n",
       "      <td>103.000</td>\n",
       "      <td>0.834</td>\n",
       "      <td>98.757</td>\n",
       "      <td>174.049</td>\n",
       "      <td>65.908</td>\n",
       "      <td>53.725</td>\n",
       "      <td>2555.566</td>\n",
       "      <td>126.907</td>\n",
       "      <td>3.330</td>\n",
       "      <td>3.255</td>\n",
       "      <td>10.143</td>\n",
       "      <td>104.117</td>\n",
       "      <td>5125.122</td>\n",
       "      <td>25.220</td>\n",
       "      <td>30.751</td>\n",
       "      <td>13276.711</td>\n",
       "    </tr>\n",
       "    <tr>\n",
       "      <th>std</th>\n",
       "      <td>59.323</td>\n",
       "      <td>1.245</td>\n",
       "      <td>6.022</td>\n",
       "      <td>12.337</td>\n",
       "      <td>2.145</td>\n",
       "      <td>2.444</td>\n",
       "      <td>520.680</td>\n",
       "      <td>41.643</td>\n",
       "      <td>0.271</td>\n",
       "      <td>0.314</td>\n",
       "      <td>3.972</td>\n",
       "      <td>39.544</td>\n",
       "      <td>476.986</td>\n",
       "      <td>6.542</td>\n",
       "      <td>6.886</td>\n",
       "      <td>7988.852</td>\n",
       "    </tr>\n",
       "    <tr>\n",
       "      <th>min</th>\n",
       "      <td>1.000</td>\n",
       "      <td>-2.000</td>\n",
       "      <td>86.600</td>\n",
       "      <td>141.100</td>\n",
       "      <td>60.300</td>\n",
       "      <td>47.800</td>\n",
       "      <td>1488.000</td>\n",
       "      <td>61.000</td>\n",
       "      <td>2.540</td>\n",
       "      <td>2.070</td>\n",
       "      <td>7.000</td>\n",
       "      <td>48.000</td>\n",
       "      <td>4150.000</td>\n",
       "      <td>13.000</td>\n",
       "      <td>16.000</td>\n",
       "      <td>5118.000</td>\n",
       "    </tr>\n",
       "    <tr>\n",
       "      <th>25%</th>\n",
       "      <td>52.000</td>\n",
       "      <td>0.000</td>\n",
       "      <td>94.500</td>\n",
       "      <td>166.300</td>\n",
       "      <td>64.100</td>\n",
       "      <td>52.000</td>\n",
       "      <td>2145.000</td>\n",
       "      <td>97.000</td>\n",
       "      <td>3.150</td>\n",
       "      <td>3.110</td>\n",
       "      <td>8.600</td>\n",
       "      <td>70.000</td>\n",
       "      <td>4800.000</td>\n",
       "      <td>19.000</td>\n",
       "      <td>25.000</td>\n",
       "      <td>7788.000</td>\n",
       "    </tr>\n",
       "    <tr>\n",
       "      <th>50%</th>\n",
       "      <td>103.000</td>\n",
       "      <td>1.000</td>\n",
       "      <td>97.000</td>\n",
       "      <td>173.200</td>\n",
       "      <td>65.500</td>\n",
       "      <td>54.100</td>\n",
       "      <td>2414.000</td>\n",
       "      <td>120.000</td>\n",
       "      <td>3.310</td>\n",
       "      <td>3.290</td>\n",
       "      <td>9.000</td>\n",
       "      <td>95.000</td>\n",
       "      <td>5200.000</td>\n",
       "      <td>24.000</td>\n",
       "      <td>30.000</td>\n",
       "      <td>10295.000</td>\n",
       "    </tr>\n",
       "    <tr>\n",
       "      <th>75%</th>\n",
       "      <td>154.000</td>\n",
       "      <td>2.000</td>\n",
       "      <td>102.400</td>\n",
       "      <td>183.100</td>\n",
       "      <td>66.900</td>\n",
       "      <td>55.500</td>\n",
       "      <td>2935.000</td>\n",
       "      <td>141.000</td>\n",
       "      <td>3.580</td>\n",
       "      <td>3.410</td>\n",
       "      <td>9.400</td>\n",
       "      <td>116.000</td>\n",
       "      <td>5500.000</td>\n",
       "      <td>30.000</td>\n",
       "      <td>34.000</td>\n",
       "      <td>16503.000</td>\n",
       "    </tr>\n",
       "    <tr>\n",
       "      <th>max</th>\n",
       "      <td>205.000</td>\n",
       "      <td>3.000</td>\n",
       "      <td>120.900</td>\n",
       "      <td>208.100</td>\n",
       "      <td>72.300</td>\n",
       "      <td>59.800</td>\n",
       "      <td>4066.000</td>\n",
       "      <td>326.000</td>\n",
       "      <td>3.940</td>\n",
       "      <td>4.170</td>\n",
       "      <td>23.000</td>\n",
       "      <td>288.000</td>\n",
       "      <td>6600.000</td>\n",
       "      <td>49.000</td>\n",
       "      <td>54.000</td>\n",
       "      <td>45400.000</td>\n",
       "    </tr>\n",
       "  </tbody>\n",
       "</table>\n",
       "</div>"
      ],
      "text/plain": [
       "       car_ID  symboling  wheelbase  carlength  carwidth  carheight  \\\n",
       "count 205.000    205.000    205.000    205.000   205.000    205.000   \n",
       "mean  103.000      0.834     98.757    174.049    65.908     53.725   \n",
       "std    59.323      1.245      6.022     12.337     2.145      2.444   \n",
       "min     1.000     -2.000     86.600    141.100    60.300     47.800   \n",
       "25%    52.000      0.000     94.500    166.300    64.100     52.000   \n",
       "50%   103.000      1.000     97.000    173.200    65.500     54.100   \n",
       "75%   154.000      2.000    102.400    183.100    66.900     55.500   \n",
       "max   205.000      3.000    120.900    208.100    72.300     59.800   \n",
       "\n",
       "       curbweight  enginesize  boreratio  stroke  compressionratio  \\\n",
       "count     205.000     205.000    205.000 205.000           205.000   \n",
       "mean     2555.566     126.907      3.330   3.255            10.143   \n",
       "std       520.680      41.643      0.271   0.314             3.972   \n",
       "min      1488.000      61.000      2.540   2.070             7.000   \n",
       "25%      2145.000      97.000      3.150   3.110             8.600   \n",
       "50%      2414.000     120.000      3.310   3.290             9.000   \n",
       "75%      2935.000     141.000      3.580   3.410             9.400   \n",
       "max      4066.000     326.000      3.940   4.170            23.000   \n",
       "\n",
       "       horsepower  peakrpm  citympg  highwaympg     price  \n",
       "count     205.000  205.000  205.000     205.000   205.000  \n",
       "mean      104.117 5125.122   25.220      30.751 13276.711  \n",
       "std        39.544  476.986    6.542       6.886  7988.852  \n",
       "min        48.000 4150.000   13.000      16.000  5118.000  \n",
       "25%        70.000 4800.000   19.000      25.000  7788.000  \n",
       "50%        95.000 5200.000   24.000      30.000 10295.000  \n",
       "75%       116.000 5500.000   30.000      34.000 16503.000  \n",
       "max       288.000 6600.000   49.000      54.000 45400.000  "
      ]
     },
     "execution_count": 13,
     "metadata": {},
     "output_type": "execute_result"
    }
   ],
   "source": [
    "# To display maximum set of columns\n",
    "pd.set_option('display.max_columns', 500)\n",
    "cars.describe()"
   ]
  },
  {
   "cell_type": "markdown",
   "id": "5f4f1ac7",
   "metadata": {},
   "source": [
    "# Removing duplicate records"
   ]
  },
  {
   "cell_type": "code",
   "execution_count": 17,
   "id": "35660f9b",
   "metadata": {},
   "outputs": [],
   "source": [
    "cars.drop_duplicates(keep='first',inplace=True)"
   ]
  },
  {
   "cell_type": "markdown",
   "id": "d72f7529",
   "metadata": {},
   "source": [
    "# Data cleaning"
   ]
  },
  {
   "cell_type": "code",
   "execution_count": 18,
   "id": "a9850667",
   "metadata": {},
   "outputs": [
    {
     "data": {
      "text/plain": [
       "car_ID              0\n",
       "symboling           0\n",
       "CarName             0\n",
       "fueltype            0\n",
       "aspiration          0\n",
       "doornumber          0\n",
       "carbody             0\n",
       "drivewheel          0\n",
       "enginelocation      0\n",
       "wheelbase           0\n",
       "carlength           0\n",
       "carwidth            0\n",
       "carheight           0\n",
       "curbweight          0\n",
       "enginetype          0\n",
       "cylindernumber      0\n",
       "enginesize          0\n",
       "fuelsystem          0\n",
       "boreratio           0\n",
       "stroke              0\n",
       "compressionratio    0\n",
       "horsepower          0\n",
       "peakrpm             0\n",
       "citympg             0\n",
       "highwaympg          0\n",
       "price               0\n",
       "dtype: int64"
      ]
     },
     "execution_count": 18,
     "metadata": {},
     "output_type": "execute_result"
    }
   ],
   "source": [
    "#number of missing values in each column\n",
    "cars.isnull().sum()"
   ]
  },
  {
   "cell_type": "code",
   "execution_count": 20,
   "id": "61c02024",
   "metadata": {},
   "outputs": [
    {
     "name": "stderr",
     "output_type": "stream",
     "text": [
      "C:\\Users\\water place pharmacy\\anaconda\\lib\\site-packages\\seaborn\\distributions.py:2619: FutureWarning: `distplot` is a deprecated function and will be removed in a future version. Please adapt your code to use either `displot` (a figure-level function with similar flexibility) or `histplot` (an axes-level function for histograms).\n",
      "  warnings.warn(msg, FutureWarning)\n"
     ]
    },
    {
     "data": {
      "text/plain": [
       "0"
      ]
     },
     "execution_count": 20,
     "metadata": {},
     "output_type": "execute_result"
    },
    {
     "data": {
      "image/png": "[encoded data removed]",
      "text/plain": [
       "<Figure size 1170x827 with 1 Axes>"
      ]
     },
     "metadata": {},
     "output_type": "display_data"
    }
   ],
   "source": [
    "# Variable price\n",
    "price_count=cars['price'].value_counts().sort_index()\n",
    "sns.distplot(cars['price'])\n",
    "cars['price'].describe()\n",
    "sns.boxplot(y=cars['price'])\n",
    "sum(cars['price'] > 150000)\n",
    "sum(cars['price'] < 100)\n",
    "# Working range- 100 and 150000"
   ]
  },
  {
   "cell_type": "code",
   "execution_count": 23,
   "id": "f7cbe203",
   "metadata": {},
   "outputs": [
    {
     "name": "stderr",
     "output_type": "stream",
     "text": [
      "C:\\Users\\water place pharmacy\\anaconda\\lib\\site-packages\\seaborn\\distributions.py:2619: FutureWarning: `distplot` is a deprecated function and will be removed in a future version. Please adapt your code to use either `displot` (a figure-level function with similar flexibility) or `histplot` (an axes-level function for histograms).\n",
      "  warnings.warn(msg, FutureWarning)\n"
     ]
    },
    {
     "data": {
      "text/plain": [
       "0"
      ]
     },
     "execution_count": 23,
     "metadata": {},
     "output_type": "execute_result"
    },
    {
     "data": {
      "image/png": "[encoded data removed]",
      "text/plain": [
       "<Figure size 1170x827 with 1 Axes>"
      ]
     },
     "metadata": {},
     "output_type": "display_data"
    }
   ],
   "source": [
    "# Variable powerPS\n",
    "power_count=cars['enginesize'].value_counts().sort_index()\n",
    "sns.distplot(cars['enginesize'])\n",
    "\n",
    "cars['enginesize'].describe()\n",
    "sns.boxplot(y=cars['enginesize'])\n",
    "sns.regplot(x='enginesize', y='price', scatter=True, \n",
    "            fit_reg=False, data=cars)\n",
    "sum(cars['enginesize'] > 500)\n",
    "sum(cars['enginesize'] < 10)\n",
    "# Working range- 10 and 500"
   ]
  },
  {
   "cell_type": "markdown",
   "id": "dc8374e2",
   "metadata": {},
   "source": [
    "# Visualizing"
   ]
  },
  {
   "cell_type": "code",
   "execution_count": 24,
   "id": "f03467cc",
   "metadata": {},
   "outputs": [
    {
     "name": "stderr",
     "output_type": "stream",
     "text": [
      "C:\\Users\\water place pharmacy\\anaconda\\lib\\site-packages\\seaborn\\distributions.py:2619: FutureWarning: `distplot` is a deprecated function and will be removed in a future version. Please adapt your code to use either `displot` (a figure-level function with similar flexibility) or `histplot` (an axes-level function for histograms).\n",
      "  warnings.warn(msg, FutureWarning)\n"
     ]
    },
    {
     "data": {
      "text/plain": [
       "<AxesSubplot:xlabel='price', ylabel='price'>"
      ]
     },
     "execution_count": 24,
     "metadata": {},
     "output_type": "execute_result"
    },
    {
     "data": {
      "image/png": "[encoded data removed]",
      "text/plain": [
       "<Figure size 1170x827 with 1 Axes>"
      ]
     },
     "metadata": {},
     "output_type": "display_data"
    }
   ],
   "source": [
    "sns.distplot(cars['price'])\n",
    "sns.boxplot(y=cars['price'])\n"
   ]
  },
  {
   "cell_type": "markdown",
   "id": "f5e338e2",
   "metadata": {},
   "source": [
    "# Age vs price"
   ]
  },
  {
   "cell_type": "code",
   "execution_count": 26,
   "id": "ddb4d634",
   "metadata": {},
   "outputs": [
    {
     "data": {
      "text/plain": [
       "<AxesSubplot:xlabel='horsepower', ylabel='price'>"
      ]
     },
     "execution_count": 26,
     "metadata": {},
     "output_type": "execute_result"
    },
    {
     "data": {
      "image/png": "[encoded data removed]",
      "text/plain": [
       "<Figure size 1170x827 with 1 Axes>"
      ]
     },
     "metadata": {},
     "output_type": "display_data"
    }
   ],
   "source": [
    "sns.regplot(x='horsepower',y='price',scatter=True,\n",
    "           fit_reg=False,data=cars)"
   ]
  },
  {
   "cell_type": "code",
   "execution_count": 31,
   "id": "08b34c89",
   "metadata": {},
   "outputs": [
    {
     "data": {
      "text/plain": [
       "<AxesSubplot:xlabel='carbody', ylabel='price'>"
      ]
     },
     "execution_count": 31,
     "metadata": {},
     "output_type": "execute_result"
    },
    {
     "data": {
      "image/png": "[encoded data removed]",
      "text/plain": [
       "<Figure size 1170x827 with 1 Axes>"
      ]
     },
     "metadata": {},
     "output_type": "display_data"
    }
   ],
   "source": [
    "# Variable carbody\n",
    "cars['carbody'].value_counts()\n",
    "pd.crosstab(cars['carbody'],columns='count',normalize=True)\n",
    "sns.countplot(x= 'carbody',data=cars)\n",
    "sns.boxplot(x= 'carbody',y='price',data=cars)\n",
    "\n",
    "# carbody affects price "
   ]
  },
  {
   "cell_type": "code",
   "execution_count": 32,
   "id": "78707eae",
   "metadata": {},
   "outputs": [
    {
     "data": {
      "text/plain": [
       "<AxesSubplot:xlabel='fueltype', ylabel='price'>"
      ]
     },
     "execution_count": 32,
     "metadata": {},
     "output_type": "execute_result"
    },
    {
     "data": {
      "image/png": "[encoded data removed]",
      "text/plain": [
       "<Figure size 1170x827 with 1 Axes>"
      ]
     },
     "metadata": {},
     "output_type": "display_data"
    }
   ],
   "source": [
    "# Variable fueltype\n",
    "cars['fueltype'].value_counts()\n",
    "pd.crosstab(cars['fueltype'],columns='count',normalize=True)\n",
    "sns.countplot(x= 'fueltype',data=cars)\n",
    "sns.boxplot(x= 'fueltype',y='price',data=cars)\n",
    "# fueltype affects price "
   ]
  },
  {
   "cell_type": "code",
   "execution_count": 36,
   "id": "e8cc486a",
   "metadata": {},
   "outputs": [
    {
     "data": {
      "text/plain": [
       "<AxesSubplot:xlabel='CarName', ylabel='price'>"
      ]
     },
     "execution_count": 36,
     "metadata": {},
     "output_type": "execute_result"
    },
    {
     "data": {
      "image/png": "[encoded data removed]",
      "text/plain": [
       "<Figure size 1170x827 with 1 Axes>"
      ]
     },
     "metadata": {},
     "output_type": "display_data"
    }
   ],
   "source": [
    "# Variable CarName\n",
    "cars['CarName'].value_counts()\n",
    "pd.crosstab(cars['CarName'],columns='count',normalize=True)\n",
    "sns.countplot(x= 'CarName',data=cars)\n",
    "sns.boxplot(x= 'CarName',y='price',data=cars)\n"
   ]
  },
  {
   "cell_type": "markdown",
   "id": "74142674",
   "metadata": {},
   "source": [
    "# Correlation"
   ]
  },
  {
   "cell_type": "code",
   "execution_count": 38,
   "id": "06538bfd",
   "metadata": {},
   "outputs": [
    {
     "data": {
      "text/plain": [
       "enginesize         0.874\n",
       "curbweight         0.835\n",
       "horsepower         0.808\n",
       "carwidth           0.759\n",
       "highwaympg         0.698\n",
       "citympg            0.686\n",
       "carlength          0.683\n",
       "wheelbase          0.578\n",
       "boreratio          0.553\n",
       "carheight          0.119\n",
       "car_ID             0.109\n",
       "peakrpm            0.085\n",
       "symboling          0.080\n",
       "stroke             0.079\n",
       "compressionratio   0.068\n",
       "Name: price, dtype: float64"
      ]
     },
     "execution_count": 38,
     "metadata": {},
     "output_type": "execute_result"
    }
   ],
   "source": [
    "cars_select1=cars.select_dtypes(exclude=[object])\n",
    "correlation=cars_select1.corr()\n",
    "round(correlation,3)   \n",
    "cars_select1.corr().loc[:,'price'].abs().sort_values(ascending=False)[1:]         "
   ]
  },
  {
   "cell_type": "markdown",
   "id": "15787ec1",
   "metadata": {},
   "source": [
    "\n",
    "# OMITTING MISSING VALUES"
   ]
  },
  {
   "cell_type": "code",
   "execution_count": 39,
   "id": "82796cea",
   "metadata": {},
   "outputs": [],
   "source": [
    "cars_omit=cars.dropna(axis=0)"
   ]
  },
  {
   "cell_type": "code",
   "execution_count": 40,
   "id": "63a47ce4",
   "metadata": {},
   "outputs": [],
   "source": [
    "# Converting categorical variables to dummy variables\n",
    "cars_omit=pd.get_dummies(cars_omit,drop_first=True)"
   ]
  },
  {
   "cell_type": "markdown",
   "id": "e17413f9",
   "metadata": {},
   "source": [
    "# IMPORTING NECESSARY LIBRARIES"
   ]
  },
  {
   "cell_type": "code",
   "execution_count": 76,
   "id": "2a28fa45",
   "metadata": {},
   "outputs": [],
   "source": [
    "from sklearn.model_selection import train_test_split\n",
    "from sklearn.linear_model import LinearRegression\n",
    "from sklearn.ensemble import RandomForestRegressor\n",
    "from sklearn.metrics import mean_squared_error"
   ]
  },
  {
   "cell_type": "markdown",
   "id": "0653bef0",
   "metadata": {},
   "source": [
    "# MODEL BUILDING WITH OMITTED DATA"
   ]
  },
  {
   "cell_type": "code",
   "execution_count": 42,
   "id": "38c8441f",
   "metadata": {},
   "outputs": [
    {
     "name": "stdout",
     "output_type": "stream",
     "text": [
      "(143, 190) (62, 190) (143,) (62,)\n"
     ]
    },
    {
     "data": {
      "image/png": "[encoded data removed]",
      "text/plain": [
       "<Figure size 1170x827 with 2 Axes>"
      ]
     },
     "metadata": {},
     "output_type": "display_data"
    }
   ],
   "source": [
    "# Separating input and output features\n",
    "x1 = cars_omit.drop(['price'], axis='columns', inplace=False)\n",
    "y1 = cars_omit['price']\n",
    "\n",
    "# Plotting the variable price\n",
    "prices = pd.DataFrame({\"1. Before\":y1, \"2. After\":np.log(y1)})\n",
    "prices.hist()\n",
    "\n",
    "# Transforming price as a logarithmic value\n",
    "y1 = np.log(y1)\n",
    "\n",
    "# Splitting data into test and train\n",
    "X_train, X_test, y_train, y_test = train_test_split(x1, y1, test_size=0.3, random_state = 3)\n",
    "print(X_train.shape, X_test.shape, y_train.shape, y_test.shape)\n"
   ]
  },
  {
   "cell_type": "markdown",
   "id": "d99a3fb7",
   "metadata": {},
   "source": [
    "# BASELINE MODEL FOR OMITTED DATA"
   ]
  },
  {
   "cell_type": "markdown",
   "id": "3476c123",
   "metadata": {},
   "source": [
    "We are making a base model by using test data mean value\n",
    "This is to set a benchmark and to compare with our regression model"
   ]
  },
  {
   "cell_type": "code",
   "execution_count": 53,
   "id": "aaf1e80a",
   "metadata": {},
   "outputs": [
    {
     "name": "stdout",
     "output_type": "stream",
     "text": [
      "9.400709970120042\n"
     ]
    }
   ],
   "source": [
    "# finding the mean for test data value\n",
    "base_pred = np.mean(y_test)\n",
    "print(base_pred)\n"
   ]
  },
  {
   "cell_type": "code",
   "execution_count": 54,
   "id": "88205524",
   "metadata": {},
   "outputs": [],
   "source": [
    "# Repeating same value till length of test data\n",
    "base_pred = np.repeat(base_pred, len(y_test))"
   ]
  },
  {
   "cell_type": "code",
   "execution_count": 55,
   "id": "77cfde17",
   "metadata": {},
   "outputs": [
    {
     "name": "stdout",
     "output_type": "stream",
     "text": [
      "0.5298446094909218\n"
     ]
    }
   ],
   "source": [
    "# finding the RMSE\n",
    "base_root_mean_square_error = np.sqrt(mean_squared_error(y_test, base_pred))\n",
    "                               \n",
    "print(base_root_mean_square_error)"
   ]
  },
  {
   "cell_type": "markdown",
   "id": "84cecd83",
   "metadata": {},
   "source": [
    "#  LINEAR REGRESSION WITH OMITTED DATA"
   ]
  },
  {
   "cell_type": "code",
   "execution_count": 56,
   "id": "c6256033",
   "metadata": {},
   "outputs": [],
   "source": [
    "\n",
    "# Setting intercept as true\n",
    "lgr=LinearRegression(fit_intercept=True)"
   ]
  },
  {
   "cell_type": "code",
   "execution_count": 57,
   "id": "b9fdc400",
   "metadata": {},
   "outputs": [],
   "source": [
    "# Model\n",
    "model_lin1=lgr.fit(X_train,y_train)"
   ]
  },
  {
   "cell_type": "code",
   "execution_count": 58,
   "id": "5e8164e7",
   "metadata": {},
   "outputs": [],
   "source": [
    "# Predicting model on test set\n",
    "cars_predictions_lin1 = lgr.predict(X_test)"
   ]
  },
  {
   "cell_type": "code",
   "execution_count": 59,
   "id": "c1ff3622",
   "metadata": {},
   "outputs": [
    {
     "name": "stdout",
     "output_type": "stream",
     "text": [
      "0.5840957604075424\n"
     ]
    }
   ],
   "source": [
    "# Computing MSE and RMSE\n",
    "lin_mse1 = mean_squared_error(y_test, cars_predictions_lin1)\n",
    "lin_rmse1 = np.sqrt(lin_mse1)\n",
    "print(lin_rmse1)"
   ]
  },
  {
   "cell_type": "code",
   "execution_count": 60,
   "id": "bbc9d1cc",
   "metadata": {},
   "outputs": [
    {
     "name": "stdout",
     "output_type": "stream",
     "text": [
      "-0.21526521574719815 0.9997603802697455\n"
     ]
    }
   ],
   "source": [
    "# R squared value\n",
    "r2_lin_test1=model_lin1.score(X_test,y_test)\n",
    "r2_lin_train1=model_lin1.score(X_train,y_train)\n",
    "print(r2_lin_test1,r2_lin_train1)"
   ]
  },
  {
   "cell_type": "code",
   "execution_count": 61,
   "id": "1b4cfe21",
   "metadata": {},
   "outputs": [
    {
     "data": {
      "text/plain": [
       "count   62.000\n",
       "mean     0.077\n",
       "std      0.584\n",
       "min     -1.061\n",
       "25%     -0.314\n",
       "50%      0.063\n",
       "75%      0.406\n",
       "max      1.791\n",
       "Name: price, dtype: float64"
      ]
     },
     "execution_count": 61,
     "metadata": {},
     "output_type": "execute_result"
    },
    {
     "data": {
      "image/png": "[encoded data removed]",
      "text/plain": [
       "<Figure size 1170x827 with 1 Axes>"
      ]
     },
     "metadata": {},
     "output_type": "display_data"
    }
   ],
   "source": [
    "# Regression diagnostics- Residual plot analysis\n",
    "residuals1=y_test-cars_predictions_lin1\n",
    "sns.regplot(x=cars_predictions_lin1, y=residuals1, scatter=True, \n",
    "            fit_reg=False)\n",
    "residuals1.describe()\n",
    "\n"
   ]
  },
  {
   "cell_type": "markdown",
   "id": "effabb02",
   "metadata": {},
   "source": [
    "# RANDOM FOREST WITH OMITTED DATA"
   ]
  },
  {
   "cell_type": "code",
   "execution_count": 62,
   "id": "a167ff27",
   "metadata": {},
   "outputs": [],
   "source": [
    "# Model parameters\n",
    "rf = RandomForestRegressor(n_estimators = 100,max_features='auto',\n",
    "                           max_depth=100,min_samples_split=10,\n",
    "                           min_samples_leaf=4,random_state=1)"
   ]
  },
  {
   "cell_type": "code",
   "execution_count": 63,
   "id": "78388be5",
   "metadata": {},
   "outputs": [],
   "source": [
    "# Model\n",
    "model_rf1=rf.fit(X_train,y_train)"
   ]
  },
  {
   "cell_type": "code",
   "execution_count": 64,
   "id": "cc9a7dd8",
   "metadata": {},
   "outputs": [],
   "source": [
    "# Predicting model on test set\n",
    "cars_predictions_rf1 = rf.predict(X_test)"
   ]
  },
  {
   "cell_type": "code",
   "execution_count": 65,
   "id": "ddabedaa",
   "metadata": {},
   "outputs": [
    {
     "name": "stdout",
     "output_type": "stream",
     "text": [
      "0.1571926387108731\n"
     ]
    }
   ],
   "source": [
    "# Computing MSE and RMSE\n",
    "rf_mse1 = mean_squared_error(y_test, cars_predictions_rf1)\n",
    "rf_rmse1 = np.sqrt(rf_mse1)\n",
    "print(rf_rmse1)\n"
   ]
  },
  {
   "cell_type": "code",
   "execution_count": 66,
   "id": "558a358e",
   "metadata": {},
   "outputs": [
    {
     "name": "stdout",
     "output_type": "stream",
     "text": [
      "0.9119828366203602 0.9554743773372119\n"
     ]
    }
   ],
   "source": [
    "# R squared value\n",
    "r2_rf_test1=model_rf1.score(X_test,y_test)\n",
    "r2_rf_train1=model_rf1.score(X_train,y_train)\n",
    "print(r2_rf_test1,r2_rf_train1)   "
   ]
  },
  {
   "cell_type": "markdown",
   "id": "1773ed9a",
   "metadata": {},
   "source": [
    "#  MODEL BUILDING WITH IMPUTED DATA"
   ]
  },
  {
   "cell_type": "code",
   "execution_count": 69,
   "id": "1ec88cc3",
   "metadata": {},
   "outputs": [],
   "source": [
    "cars_imputed = cars.apply(lambda x:x.fillna(x.median()) \\\n",
    "                  if x.dtype=='float' else \\\n",
    "                  x.fillna(x.value_counts().index[0]))\n",
    "cars_imputed.isnull().sum()\n",
    "\n",
    "# Converting categorical variables to dummy variables\n",
    "cars_imputed=pd.get_dummies(cars_imputed,drop_first=True) "
   ]
  },
  {
   "cell_type": "markdown",
   "id": "2780e3f5",
   "metadata": {},
   "source": [
    "# MODEL BUILDING WITH OMITTED DATA\n"
   ]
  },
  {
   "cell_type": "code",
   "execution_count": 70,
   "id": "f355e509",
   "metadata": {},
   "outputs": [
    {
     "name": "stdout",
     "output_type": "stream",
     "text": [
      "(143, 190) (62, 190) (143,) (62,)\n"
     ]
    },
    {
     "data": {
      "image/png": "[encoded data removed]",
      "text/plain": [
       "<Figure size 1170x827 with 2 Axes>"
      ]
     },
     "metadata": {},
     "output_type": "display_data"
    }
   ],
   "source": [
    "# Separating input and output feature\n",
    "x2 = cars_imputed.drop(['price'], axis='columns', inplace=False)\n",
    "y2 = cars_imputed['price']\n",
    "\n",
    "\n",
    "# Plotting the variable price\n",
    "prices = pd.DataFrame({\"1. Before\":y2, \"2. After\":np.log(y2)})\n",
    "prices.hist()\n",
    "\n",
    "# Transforming price as a logarithmic value\n",
    "y2 = np.log(y2)\n",
    "\n",
    "# Splitting data into test and train\n",
    "X_train1, X_test1, y_train1, y_test1 = train_test_split(x2, y2, test_size=0.3, random_state = 3)\n",
    "print(X_train1.shape, X_test1.shape, y_train1.shape, y_test1.shape)"
   ]
  },
  {
   "cell_type": "markdown",
   "id": "599b269f",
   "metadata": {},
   "source": [
    "# ================\n",
    "# BASELINE MODEL FOR IMPUTED DATA"
   ]
  },
  {
   "cell_type": "markdown",
   "id": "30cd9d19",
   "metadata": {},
   "source": [
    "We are making a base model by using test data mean value\n",
    "This is to set a benchmark and to compare with our regression model\n"
   ]
  },
  {
   "cell_type": "code",
   "execution_count": 71,
   "id": "18c17943",
   "metadata": {},
   "outputs": [
    {
     "name": "stdout",
     "output_type": "stream",
     "text": [
      "9.400709970120042\n",
      "0.5298446094909218\n"
     ]
    }
   ],
   "source": [
    "# finding the mean for test data value\n",
    "base_pred = np.mean(y_test1)\n",
    "print(base_pred)\n",
    "\n",
    "# Repeating same value till length of test data\n",
    "base_pred = np.repeat(base_pred, len(y_test1))\n",
    "\n",
    "# finding the RMSE\n",
    "base_root_mean_square_error_imputed = np.sqrt(mean_squared_error(y_test1, base_pred))\n",
    "                               \n",
    "print(base_root_mean_square_error_imputed)"
   ]
  },
  {
   "cell_type": "markdown",
   "id": "1d78c4c9",
   "metadata": {},
   "source": [
    "# LINEAR REGRESSION WITH IMPUTED DATA"
   ]
  },
  {
   "cell_type": "code",
   "execution_count": 72,
   "id": "1c193a6d",
   "metadata": {},
   "outputs": [
    {
     "name": "stdout",
     "output_type": "stream",
     "text": [
      "0.5840957604075424\n",
      "-0.21526521574719815 0.9997603802697455\n"
     ]
    }
   ],
   "source": [
    "# Setting intercept as true\n",
    "lgr2=LinearRegression(fit_intercept=True)\n",
    "\n",
    "# Model\n",
    "model_lin2=lgr2.fit(X_train1,y_train1)\n",
    "\n",
    "# Predicting model on test set\n",
    "cars_predictions_lin2 = lgr2.predict(X_test1)\n",
    "\n",
    "# Computing MSE and RMSE\n",
    "lin_mse2 = mean_squared_error(y_test1, cars_predictions_lin2)\n",
    "lin_rmse2 = np.sqrt(lin_mse2)\n",
    "print(lin_rmse2)\n",
    "\n",
    "# R squared value\n",
    "r2_lin_test2=model_lin2.score(X_test1,y_test1)\n",
    "r2_lin_train2=model_lin2.score(X_train1,y_train1)\n",
    "print(r2_lin_test2,r2_lin_train2)"
   ]
  },
  {
   "cell_type": "markdown",
   "id": "da66d279",
   "metadata": {},
   "source": [
    "# RANDOM FOREST WITH IMPUTED DATA\n"
   ]
  },
  {
   "cell_type": "code",
   "execution_count": 73,
   "id": "b45399a9",
   "metadata": {},
   "outputs": [
    {
     "name": "stdout",
     "output_type": "stream",
     "text": [
      "0.1571926387108731\n",
      "0.9119828366203602 0.9554743773372119\n"
     ]
    }
   ],
   "source": [
    "\n",
    "# Model parameters\n",
    "rf2 = RandomForestRegressor(n_estimators = 100,max_features='auto',\n",
    "                           max_depth=100,min_samples_split=10,\n",
    "                           min_samples_leaf=4,random_state=1)\n",
    "\n",
    "# Model\n",
    "model_rf2=rf2.fit(X_train1,y_train1)\n",
    "\n",
    "# Predicting model on test set\n",
    "cars_predictions_rf2 = rf2.predict(X_test1)\n",
    "\n",
    "# Computing MSE and RMSE\n",
    "rf_mse2 = mean_squared_error(y_test1, cars_predictions_rf2)\n",
    "rf_rmse2 = np.sqrt(rf_mse2)\n",
    "print(rf_rmse2)\n",
    "\n",
    "# R squared value\n",
    "r2_rf_test2=model_rf2.score(X_test1,y_test1)\n",
    "r2_rf_train2=model_rf2.score(X_train1,y_train1)\n",
    "print(r2_rf_test2,r2_rf_train2)     "
   ]
  },
  {
   "cell_type": "code",
   "execution_count": 74,
   "id": "9812cd1b",
   "metadata": {},
   "outputs": [
    {
     "name": "stdout",
     "output_type": "stream",
     "text": [
      "Metrics for models built from data where missing values were omitted\n",
      "R squared value for train from Linear Regression=  0.9997603802697455\n",
      "R squared value for test from Linear Regression=  -0.21526521574719815\n",
      "R squared value for train from Random Forest=  0.9554743773372119\n",
      "R squared value for test from Random Forest=  0.9119828366203602\n",
      "Base RMSE of model built from data where missing values were omitted= 0.5298446094909218\n",
      "RMSE value for test from Linear Regression=  0.5840957604075424\n",
      "RMSE value for test from Random Forest=  0.1571926387108731\n",
      "\n",
      "\n",
      "\n",
      "Metrics for models built from data where missing values were imputed\n",
      "R squared value for train from Linear Regression=  0.9997603802697455\n",
      "R squared value for test from Linear Regression=  -0.21526521574719815\n",
      "R squared value for train from Random Forest=  0.9554743773372119\n",
      "R squared value for test from Random Forest=  0.9119828366203602\n",
      "Base RMSE of model built from data where missing values were imputed= 0.5298446094909218\n",
      "RMSE value for test from Linear Regression=  0.5840957604075424\n",
      "RMSE value for test from Random Forest=  0.1571926387108731\n"
     ]
    }
   ],
   "source": [
    "print(\"Metrics for models built from data where missing values were omitted\")\n",
    "print(\"R squared value for train from Linear Regression=  %s\"% r2_lin_train1)\n",
    "print(\"R squared value for test from Linear Regression=  %s\"% r2_lin_test1)\n",
    "print(\"R squared value for train from Random Forest=  %s\"% r2_rf_train1)\n",
    "print(\"R squared value for test from Random Forest=  %s\"% r2_rf_test1)\n",
    "print(\"Base RMSE of model built from data where missing values were omitted= %s\"%base_root_mean_square_error)\n",
    "print(\"RMSE value for test from Linear Regression=  %s\"% lin_rmse1)\n",
    "print(\"RMSE value for test from Random Forest=  %s\"% rf_rmse1)\n",
    "print(\"\\n\\n\")\n",
    "print(\"Metrics for models built from data where missing values were imputed\")\n",
    "print(\"R squared value for train from Linear Regression=  %s\"% r2_lin_train2)\n",
    "print(\"R squared value for test from Linear Regression=  %s\"% r2_lin_test2)\n",
    "print(\"R squared value for train from Random Forest=  %s\"% r2_rf_train2)\n",
    "print(\"R squared value for test from Random Forest=  %s\"% r2_rf_test2)\n",
    "print(\"Base RMSE of model built from data where missing values were imputed= %s\"%base_root_mean_square_error_imputed)\n",
    "print(\"RMSE value for test from Linear Regression=  %s\"% lin_rmse2)\n",
    "print(\"RMSE value for test from Random Forest=  %s\"% rf_rmse2)\n"
   ]
  }
 ],
 "metadata": {
  "kernelspec": {
   "display_name": "Python 3 (ipykernel)",
   "language": "python",
   "name": "python3"
  },
  "language_info": {
   "codemirror_mode": {
    "name": "ipython",
    "version": 3
   },
   "file_extension": ".py",
   "mimetype": "text/x-python",
   "name": "python",
   "nbconvert_exporter": "python",
   "pygments_lexer": "ipython3",
   "version": "3.9.13"
  }
 },
 "nbformat": 4,
 "nbformat_minor": 5
}
